{
 "cells": [
  {
   "cell_type": "markdown",
   "id": "a90c93d6",
   "metadata": {},
   "source": [
    "# Primeiros Exemplos"
   ]
  },
  {
   "cell_type": "code",
   "execution_count": 34,
   "id": "4cc30b7c",
   "metadata": {},
   "outputs": [
    {
     "name": "stdout",
     "output_type": "stream",
     "text": [
      "primeiro programa\n"
     ]
    }
   ],
   "source": [
    "print('primeiro programa')\n"
   ]
  },
  {
   "cell_type": "markdown",
   "id": "48f46ced",
   "metadata": {},
   "source": [
    "# Tipos Basicos"
   ]
  },
  {
   "cell_type": "code",
   "execution_count": 41,
   "id": "bbfb3596",
   "metadata": {},
   "outputs": [
    {
     "name": "stdout",
     "output_type": "stream",
     "text": [
      "True\n",
      "False\n",
      "[1, 2, 3]\n",
      "None\n"
     ]
    }
   ],
   "source": [
    "print(True)\n",
    "print(False)\n",
    "#print(3 + '3') -> ambiguidade\n",
    "print([1,2,3])\n",
    "print(None)"
   ]
  },
  {
   "cell_type": "markdown",
   "id": "06c58419",
   "metadata": {},
   "source": [
    "# Variaveis"
   ]
  },
  {
   "cell_type": "code",
   "execution_count": 47,
   "id": "affa56ec",
   "metadata": {},
   "outputs": [
    {
     "name": "stdout",
     "output_type": "stream",
     "text": [
      "15.2\n",
      "agora sou uma string\n"
     ]
    }
   ],
   "source": [
    "a = 10\n",
    "b = 5.2\n",
    "print(a + b)\n",
    "a = 'agora sou uma string'\n",
    "print(a)"
   ]
  },
  {
   "cell_type": "markdown",
   "id": "e6a99bff",
   "metadata": {},
   "source": [
    "# Comentários"
   ]
  },
  {
   "cell_type": "code",
   "execution_count": 50,
   "id": "aa849c00",
   "metadata": {},
   "outputs": [
    {
     "name": "stdout",
     "output_type": "stream",
     "text": [
      "10\n"
     ]
    }
   ],
   "source": [
    "\"\"\"\n",
    "sjdkshfk\n",
    "sksfjs\n",
    "sjfjsf\n",
    "\"\"\"\n",
    "'''\n",
    "kfjskf\n",
    "sfjsfjs\n",
    "sfjsjf\n",
    "'''\n",
    "\n",
    "# Minhas variaveis\n",
    "a = 10\n",
    "print(a)"
   ]
  },
  {
   "cell_type": "markdown",
   "id": "f307f4a3",
   "metadata": {},
   "source": [
    "# Operadores Aritmétcos"
   ]
  },
  {
   "cell_type": "code",
   "execution_count": 51,
   "id": "1a2ac551",
   "metadata": {},
   "outputs": [
    {
     "name": "stdout",
     "output_type": "stream",
     "text": [
      "5\n",
      "-3\n",
      "10.6\n",
      "3.1333333333333333\n",
      "3.0\n",
      "256\n",
      "1\n",
      "24\n"
     ]
    }
   ],
   "source": [
    "print(2 + 3)\n",
    "print(4 - 7)\n",
    "print(2 * 5.3)\n",
    "print(9.4 / 3)\n",
    "print(9.4 // 3) # divisão sem resto\n",
    "print(2 ** 8) # potência\n",
    "print(10 % 3)\n",
    "\n",
    "a = 12\n",
    "b = a\n",
    "print(a + b)"
   ]
  },
  {
   "cell_type": "code",
   "execution_count": 59,
   "id": "de72ed14",
   "metadata": {},
   "outputs": [
    {
     "name": "stdout",
     "output_type": "stream",
     "text": [
      "Percentual do salário gasto é de  71.0 %\n"
     ]
    }
   ],
   "source": [
    "# Desafio - calcule o percentual de salario gasto nas despesas \n",
    "\n",
    "salario = 3450.45\n",
    "despesas = 2456.2\n",
    "\n",
    "percentual = (2456.2 * 100)//3450.45\n",
    "print('Percentual do salário gasto é de ',percentual,'%')\n",
    "\n",
    "\n"
   ]
  },
  {
   "cell_type": "markdown",
   "id": "2b552c17",
   "metadata": {},
   "source": [
    "# Operadores Relacionais"
   ]
  },
  {
   "cell_type": "code",
   "execution_count": 66,
   "id": "24e3fd23",
   "metadata": {},
   "outputs": [
    {
     "name": "stdout",
     "output_type": "stream",
     "text": [
      "True\n",
      "False\n",
      "True\n",
      "True\n",
      "False\n"
     ]
    }
   ],
   "source": [
    "print(5 > 2)\n",
    "print(2 > 5)\n",
    "print(3 != 2)\n",
    "print(2 == 2)\n",
    "print(2 == '2')"
   ]
  },
  {
   "cell_type": "markdown",
   "id": "83f5a013",
   "metadata": {},
   "source": [
    "# Operadores de Atribuição"
   ]
  },
  {
   "cell_type": "code",
   "execution_count": 75,
   "id": "eb3653c4",
   "metadata": {},
   "outputs": [
    {
     "name": "stdout",
     "output_type": "stream",
     "text": [
      "10\n",
      "15\n",
      "12\n",
      "24\n",
      "6.0\n",
      "2.0\n",
      "256.0\n",
      "1.0\n"
     ]
    }
   ],
   "source": [
    "a = 3\n",
    "a = a + 7\n",
    "print(a)\n",
    "\n",
    "# a = 5\n",
    "a += 5\n",
    "print(a)\n",
    "\n",
    "a -= 3\n",
    "print(a)\n",
    "\n",
    "a *= 2\n",
    "print(a)\n",
    "\n",
    "\n",
    "a /= 4\n",
    "print(a)\n",
    "\n",
    "a %= 4\n",
    "print(a)\n",
    "\n",
    "a **= 8\n",
    "print(a)\n",
    "\n",
    "a //= 256\n",
    "print(a)\n"
   ]
  },
  {
   "cell_type": "markdown",
   "id": "4e637ced",
   "metadata": {},
   "source": [
    "# Operadores Lógicos"
   ]
  },
  {
   "cell_type": "code",
   "execution_count": 78,
   "id": "7fb1935a",
   "metadata": {},
   "outputs": [
    {
     "data": {
      "text/plain": [
       "False"
      ]
     },
     "execution_count": 78,
     "metadata": {},
     "output_type": "execute_result"
    }
   ],
   "source": [
    "True or False\n",
    "7 !=3 and 2 > 3\n",
    "\n",
    "# Tabela verdade do AND\n",
    "True and True\n",
    "True and False\n",
    "False and True\n",
    "False and False\n"
   ]
  },
  {
   "cell_type": "code",
   "execution_count": 114,
   "id": "a17dc732",
   "metadata": {},
   "outputs": [
    {
     "name": "stdout",
     "output_type": "stream",
     "text": [
      "True\n",
      "False\n",
      "True\n",
      "False\n",
      "Tv50=True Tv32=False Sorvete=True Saúdavel=False\n"
     ]
    }
   ],
   "source": [
    "# Desafio Operadores Lógicos\n",
    "trabalho_terca = True\n",
    "trabalho_quinta = True\n",
    "\n",
    "'''\n",
    "Confirmado os 2 : TV 50 + sorvete\n",
    "Confrmado 1: TV de 32 + sorvete\n",
    "Nenhum: fica em casa\n",
    "'''\n",
    "tv50 = trabalho_terca and trabalho_quinta\n",
    "print(tv50)\n",
    "tv32 = trabalho_terca != trabalho_quinta\n",
    "print(tv32)\n",
    "sorvete = trabalho_terca or trabalho_quinta\n",
    "print(sorvete)\n",
    "mais_saudavel = not sorvete\n",
    "print(mais_saudavel)\n",
    "\n",
    "print(\"Tv50={} Tv32={} Sorvete={} Saúdavel={}\".format(tv50, tv32, sorvete, mais_saudavel))\n"
   ]
  },
  {
   "cell_type": "code",
   "execution_count": 121,
   "id": "6b35dd4e",
   "metadata": {},
   "outputs": [
    {
     "name": "stdout",
     "output_type": "stream",
     "text": [
      "[1, 2, 3]\n",
      "1\n",
      "{'nome': 'Rhuan'}\n"
     ]
    }
   ],
   "source": [
    "a = [1,2,3]\n",
    "b = [{\"nome\": \"Rhuan\"}, {\"nome\": \"Maurilio\"}]\n",
    "print(a)\n",
    "print(a[0])\n",
    "print(b[0])"
   ]
  },
  {
   "cell_type": "markdown",
   "id": "5df43d11",
   "metadata": {},
   "source": [
    "# Operadores Unários"
   ]
  },
  {
   "cell_type": "code",
   "execution_count": 168,
   "id": "34bec8e2",
   "metadata": {},
   "outputs": [
    {
     "data": {
      "text/plain": [
       "2"
      ]
     },
     "execution_count": 168,
     "metadata": {},
     "output_type": "execute_result"
    }
   ],
   "source": [
    "a = 1\n",
    "a += 1\n",
    "a\n",
    "\n",
    "\n"
   ]
  },
  {
   "cell_type": "markdown",
   "id": "e9c12981",
   "metadata": {},
   "source": [
    "# Operadores Ternários"
   ]
  },
  {
   "cell_type": "code",
   "execution_count": 134,
   "id": "7363a4c3",
   "metadata": {},
   "outputs": [
    {
     "name": "stdout",
     "output_type": "stream",
     "text": [
      "Hoje estou com roupas molhadas\n",
      "Hoje estou com roupas molhadas\n"
     ]
    }
   ],
   "source": [
    "esta_chovendo = True\n",
    "print('Hoje estou com roupas '+('secas', 'molhadas')[esta_chovendo])\n",
    "\n",
    "print('Hoje estou com roupas '+('molhadas' if esta_chovendo else 'secas'))"
   ]
  },
  {
   "cell_type": "markdown",
   "id": "c42b38e4",
   "metadata": {},
   "source": [
    "# Mais Operadores"
   ]
  },
  {
   "cell_type": "code",
   "execution_count": 183,
   "id": "77ae8977",
   "metadata": {},
   "outputs": [
    {
     "data": {
      "text/plain": [
       "True"
      ]
     },
     "execution_count": 183,
     "metadata": {},
     "output_type": "execute_result"
    }
   ],
   "source": [
    "# Operador de Membro\n",
    "lista = [1, 2 , 3, 'Ana', 'Rhuan']\n",
    "2 in lista\n",
    "'Ana' not in lista\n",
    "\n",
    "# Operador de Identidade\n",
    "x = 3 \n",
    "z = x\n",
    "y = 3\n",
    "x  is y\n",
    "z is x\n",
    "x is not z\n",
    "\n",
    "list_a  = [1,2,3]\n",
    "list_b  =  list_a\n",
    "list_c  = [1,2,3]\n",
    "\n",
    "list_a is list_b\n",
    "list_c is list_a\n",
    "list_c is not list_a\n",
    "\n"
   ]
  },
  {
   "cell_type": "markdown",
   "id": "cee6eadf",
   "metadata": {},
   "source": [
    "# Builtins"
   ]
  },
  {
   "cell_type": "code",
   "execution_count": 189,
   "id": "5ae76ee4",
   "metadata": {},
   "outputs": [
    {
     "data": {
      "text/plain": [
       "['ArithmeticError',\n",
       " 'AssertionError',\n",
       " 'AttributeError',\n",
       " 'BaseException',\n",
       " 'BlockingIOError',\n",
       " 'BrokenPipeError',\n",
       " 'BufferError',\n",
       " 'BytesWarning',\n",
       " 'ChildProcessError',\n",
       " 'ConnectionAbortedError',\n",
       " 'ConnectionError',\n",
       " 'ConnectionRefusedError',\n",
       " 'ConnectionResetError',\n",
       " 'DeprecationWarning',\n",
       " 'EOFError',\n",
       " 'Ellipsis',\n",
       " 'EnvironmentError',\n",
       " 'Exception',\n",
       " 'False',\n",
       " 'FileExistsError',\n",
       " 'FileNotFoundError',\n",
       " 'FloatingPointError',\n",
       " 'FutureWarning',\n",
       " 'GeneratorExit',\n",
       " 'IOError',\n",
       " 'ImportError',\n",
       " 'ImportWarning',\n",
       " 'IndentationError',\n",
       " 'IndexError',\n",
       " 'InterruptedError',\n",
       " 'IsADirectoryError',\n",
       " 'KeyError',\n",
       " 'KeyboardInterrupt',\n",
       " 'LookupError',\n",
       " 'MemoryError',\n",
       " 'ModuleNotFoundError',\n",
       " 'NameError',\n",
       " 'None',\n",
       " 'NotADirectoryError',\n",
       " 'NotImplemented',\n",
       " 'NotImplementedError',\n",
       " 'OSError',\n",
       " 'OverflowError',\n",
       " 'PendingDeprecationWarning',\n",
       " 'PermissionError',\n",
       " 'ProcessLookupError',\n",
       " 'RecursionError',\n",
       " 'ReferenceError',\n",
       " 'ResourceWarning',\n",
       " 'RuntimeError',\n",
       " 'RuntimeWarning',\n",
       " 'StopAsyncIteration',\n",
       " 'StopIteration',\n",
       " 'SyntaxError',\n",
       " 'SyntaxWarning',\n",
       " 'SystemError',\n",
       " 'SystemExit',\n",
       " 'TabError',\n",
       " 'TimeoutError',\n",
       " 'True',\n",
       " 'TypeError',\n",
       " 'UnboundLocalError',\n",
       " 'UnicodeDecodeError',\n",
       " 'UnicodeEncodeError',\n",
       " 'UnicodeError',\n",
       " 'UnicodeTranslateError',\n",
       " 'UnicodeWarning',\n",
       " 'UserWarning',\n",
       " 'ValueError',\n",
       " 'Warning',\n",
       " 'WindowsError',\n",
       " 'ZeroDivisionError',\n",
       " '__IPYTHON__',\n",
       " '__build_class__',\n",
       " '__debug__',\n",
       " '__doc__',\n",
       " '__import__',\n",
       " '__loader__',\n",
       " '__name__',\n",
       " '__package__',\n",
       " '__spec__',\n",
       " 'abs',\n",
       " 'all',\n",
       " 'any',\n",
       " 'ascii',\n",
       " 'bin',\n",
       " 'bool',\n",
       " 'breakpoint',\n",
       " 'bytearray',\n",
       " 'bytes',\n",
       " 'callable',\n",
       " 'chr',\n",
       " 'classmethod',\n",
       " 'compile',\n",
       " 'complex',\n",
       " 'copyright',\n",
       " 'credits',\n",
       " 'delattr',\n",
       " 'dict',\n",
       " 'dir',\n",
       " 'display',\n",
       " 'divmod',\n",
       " 'enumerate',\n",
       " 'eval',\n",
       " 'exec',\n",
       " 'execfile',\n",
       " 'filter',\n",
       " 'float',\n",
       " 'format',\n",
       " 'frozenset',\n",
       " 'get_ipython',\n",
       " 'getattr',\n",
       " 'globals',\n",
       " 'hasattr',\n",
       " 'hash',\n",
       " 'help',\n",
       " 'hex',\n",
       " 'id',\n",
       " 'input',\n",
       " 'int',\n",
       " 'isinstance',\n",
       " 'issubclass',\n",
       " 'iter',\n",
       " 'len',\n",
       " 'license',\n",
       " 'list',\n",
       " 'locals',\n",
       " 'map',\n",
       " 'max',\n",
       " 'memoryview',\n",
       " 'min',\n",
       " 'next',\n",
       " 'object',\n",
       " 'oct',\n",
       " 'open',\n",
       " 'ord',\n",
       " 'pow',\n",
       " 'print',\n",
       " 'property',\n",
       " 'range',\n",
       " 'repr',\n",
       " 'reversed',\n",
       " 'round',\n",
       " 'runfile',\n",
       " 'set',\n",
       " 'setattr',\n",
       " 'slice',\n",
       " 'sorted',\n",
       " 'staticmethod',\n",
       " 'str',\n",
       " 'sum',\n",
       " 'super',\n",
       " 'tuple',\n",
       " 'type',\n",
       " 'vars',\n",
       " 'zip']"
      ]
     },
     "execution_count": 189,
     "metadata": {},
     "output_type": "execute_result"
    }
   ],
   "source": [
    "dir()\n",
    "type(1)\n",
    "dir(__builtins__)"
   ]
  },
  {
   "cell_type": "markdown",
   "id": "a4bb45be",
   "metadata": {},
   "source": [
    "#  Conversão de Tipos"
   ]
  },
  {
   "cell_type": "code",
   "execution_count": 196,
   "id": "f41d5fb8",
   "metadata": {},
   "outputs": [
    {
     "name": "stdout",
     "output_type": "stream",
     "text": [
      "<class 'int'>\n",
      "<class 'str'>\n",
      "5\n",
      "23\n"
     ]
    }
   ],
   "source": [
    "2 + 3\n",
    "'2' + '3'\n",
    "\n",
    "a = 2\n",
    "b = '3'\n",
    "\n",
    "print(type(a))\n",
    "print(type(b))\n",
    "\n",
    "print(a + int(b))\n",
    "print(str(a) + b)\n",
    "\n",
    "\n"
   ]
  },
  {
   "cell_type": "markdown",
   "id": "b8fd8f6d",
   "metadata": {},
   "source": [
    "# Coerção Automática"
   ]
  },
  {
   "cell_type": "code",
   "execution_count": 207,
   "id": "01fa39ba",
   "metadata": {},
   "outputs": [
    {
     "data": {
      "text/plain": [
       "2"
      ]
     },
     "execution_count": 207,
     "metadata": {},
     "output_type": "execute_result"
    }
   ],
   "source": [
    "10 / 2 \n",
    "type(10/2)\n",
    "10/3\n",
    "10//3\n",
    "type(10//3)\n",
    "10/3.3\n",
    "type(10/3.3)\n",
    "2 + True\n",
    "2 + False"
   ]
  },
  {
   "cell_type": "markdown",
   "id": "cb023106",
   "metadata": {},
   "source": [
    "# Números"
   ]
  },
  {
   "cell_type": "code",
   "execution_count": 231,
   "id": "8a57b077",
   "metadata": {},
   "outputs": [
    {
     "data": {
      "text/plain": [
       "['__abs__',\n",
       " '__add__',\n",
       " '__bool__',\n",
       " '__ceil__',\n",
       " '__class__',\n",
       " '__complex__',\n",
       " '__copy__',\n",
       " '__deepcopy__',\n",
       " '__delattr__',\n",
       " '__dir__',\n",
       " '__divmod__',\n",
       " '__doc__',\n",
       " '__eq__',\n",
       " '__float__',\n",
       " '__floor__',\n",
       " '__floordiv__',\n",
       " '__format__',\n",
       " '__ge__',\n",
       " '__getattribute__',\n",
       " '__gt__',\n",
       " '__hash__',\n",
       " '__init__',\n",
       " '__init_subclass__',\n",
       " '__int__',\n",
       " '__le__',\n",
       " '__lt__',\n",
       " '__mod__',\n",
       " '__module__',\n",
       " '__mul__',\n",
       " '__ne__',\n",
       " '__neg__',\n",
       " '__new__',\n",
       " '__pos__',\n",
       " '__pow__',\n",
       " '__radd__',\n",
       " '__rdivmod__',\n",
       " '__reduce__',\n",
       " '__reduce_ex__',\n",
       " '__repr__',\n",
       " '__rfloordiv__',\n",
       " '__rmod__',\n",
       " '__rmul__',\n",
       " '__round__',\n",
       " '__rpow__',\n",
       " '__rsub__',\n",
       " '__rtruediv__',\n",
       " '__setattr__',\n",
       " '__sizeof__',\n",
       " '__str__',\n",
       " '__sub__',\n",
       " '__subclasshook__',\n",
       " '__truediv__',\n",
       " '__trunc__',\n",
       " 'adjusted',\n",
       " 'as_integer_ratio',\n",
       " 'as_tuple',\n",
       " 'canonical',\n",
       " 'compare',\n",
       " 'compare_signal',\n",
       " 'compare_total',\n",
       " 'compare_total_mag',\n",
       " 'conjugate',\n",
       " 'copy_abs',\n",
       " 'copy_negate',\n",
       " 'copy_sign',\n",
       " 'exp',\n",
       " 'fma',\n",
       " 'from_float',\n",
       " 'imag',\n",
       " 'is_canonical',\n",
       " 'is_finite',\n",
       " 'is_infinite',\n",
       " 'is_nan',\n",
       " 'is_normal',\n",
       " 'is_qnan',\n",
       " 'is_signed',\n",
       " 'is_snan',\n",
       " 'is_subnormal',\n",
       " 'is_zero',\n",
       " 'ln',\n",
       " 'log10',\n",
       " 'logb',\n",
       " 'logical_and',\n",
       " 'logical_invert',\n",
       " 'logical_or',\n",
       " 'logical_xor',\n",
       " 'max',\n",
       " 'max_mag',\n",
       " 'min',\n",
       " 'min_mag',\n",
       " 'next_minus',\n",
       " 'next_plus',\n",
       " 'next_toward',\n",
       " 'normalize',\n",
       " 'number_class',\n",
       " 'quantize',\n",
       " 'radix',\n",
       " 'real',\n",
       " 'remainder_near',\n",
       " 'rotate',\n",
       " 'same_quantum',\n",
       " 'scaleb',\n",
       " 'shift',\n",
       " 'sqrt',\n",
       " 'to_eng_string',\n",
       " 'to_integral',\n",
       " 'to_integral_exact',\n",
       " 'to_integral_value']"
      ]
     },
     "execution_count": 231,
     "metadata": {},
     "output_type": "execute_result"
    }
   ],
   "source": [
    "from decimal import Decimal, getcontext\n",
    "a = 1\n",
    "b = 2\n",
    "c = -5\n",
    "\n",
    "\n",
    "\n",
    "int.__add__(a , b)\n",
    "(-2).__abs__()\n",
    "\n",
    "abs(c)\n",
    "\n",
    "getcontext().prec = 4\n",
    "Decimal(1) / Decimal(7)\n",
    "Decimal.max(Decimal(1), Decimal(7))\n",
    "dir(Decimal)"
   ]
  },
  {
   "cell_type": "markdown",
   "id": "61680560",
   "metadata": {},
   "source": [
    "# Strings"
   ]
  },
  {
   "cell_type": "code",
   "execution_count": 290,
   "id": "43176705",
   "metadata": {},
   "outputs": [
    {
     "name": "stdout",
     "output_type": "stream",
     "text": [
      "texto com quebra de \n",
      " ........linhas\n"
     ]
    },
    {
     "data": {
      "text/plain": [
       "'Rhuan Costanzo de Souza'"
      ]
     },
     "execution_count": 290,
     "metadata": {},
     "output_type": "execute_result"
    }
   ],
   "source": [
    "dir(str)\n",
    "nome = 'Rhuan Costanzo de Souza'\n",
    "nome\n",
    "#'marca d' agua'\n",
    "\"marca d' agua\"\n",
    "'marca d\\'agua '\n",
    "print('texto com quebra de \\n ........linhas')\n",
    "\n",
    "nome[6:]\n",
    "nome[:6]\n",
    "nome[-5:]\n",
    "nome[:-9]\n",
    "nome[6:14]\n",
    "\n",
    "numeros = '1234567890'\n",
    "numeros\n",
    "numeros[::]\n",
    "numeros[::2]\n",
    "numeros[::-1]\n",
    "numeros[::1]\n",
    "\n"
   ]
  },
  {
   "cell_type": "code",
   "execution_count": 293,
   "id": "aca21d90",
   "metadata": {},
   "outputs": [
    {
     "data": {
      "text/plain": [
       "['PYTHON É UMA ', 'XC', 'L', 'NT', ' LINGUAG', 'M']"
      ]
     },
     "execution_count": 293,
     "metadata": {},
     "output_type": "execute_result"
    }
   ],
   "source": [
    "frase = 'Python é uma excelente linguagem'\n",
    "'py' not in frase\n",
    "'ing' in frase\n",
    "len(frase)\n",
    "frase.lower()\n",
    "frase.upper()\n",
    "frase = frase.upper()\n",
    "frase\n",
    "\n",
    "frase.split()\n",
    "frase.split('E')\n",
    "\n",
    "#dir(str)\n",
    "#help(str.upper)\n"
   ]
  },
  {
   "cell_type": "code",
   "execution_count": 301,
   "id": "b8453d07",
   "metadata": {},
   "outputs": [
    {
     "name": "stdout",
     "output_type": "stream",
     "text": [
      "Help on wrapper_descriptor:\n",
      "\n",
      "__eq__(self, value, /)\n",
      "    Return self==value.\n",
      "\n"
     ]
    }
   ],
   "source": [
    "dir(str)\n",
    "help(str.__eq__)\n",
    "\n",
    "\n",
    "__add__"
   ]
  },
  {
   "cell_type": "markdown",
   "id": "d4c36831",
   "metadata": {},
   "source": [
    "# Lista"
   ]
  },
  {
   "cell_type": "code",
   "execution_count": 341,
   "id": "7491ab3b",
   "metadata": {},
   "outputs": [
    {
     "data": {
      "text/plain": [
       "['Ana']"
      ]
     },
     "execution_count": 341,
     "metadata": {},
     "output_type": "execute_result"
    }
   ],
   "source": [
    "lista = []\n",
    "type(lista)\n",
    "dir(lista)\n",
    "# help(list)\n",
    "len(lista)\n",
    "lista.append(1)\n",
    "lista.append(5)\n",
    "lista\n",
    "len(lista)\n",
    "\n",
    "nova_lista = [1, 5, 'Rhuan', 'Ana']\n",
    "nova_lista.remove(5)\n",
    "nova_lista\n",
    "nova_lista.reverse()\n",
    "nova_lista\n",
    "nova_lista.remove('Rhuan')\n",
    "nova_lista\n",
    "nova_lista[:1]\n"
   ]
  },
  {
   "cell_type": "code",
   "execution_count": 328,
   "id": "80095bf3",
   "metadata": {},
   "outputs": [
    {
     "data": {
      "text/plain": [
       "3.1452"
      ]
     },
     "execution_count": 328,
     "metadata": {},
     "output_type": "execute_result"
    }
   ],
   "source": [
    "lista = [1, 5, 'Manuela', 'Davi', 3.1452]\n",
    "lista.index('Manuela')\n",
    "lista[2]\n",
    "1 in lista\n",
    "lista[-5]\n",
    "lista[-1]"
   ]
  },
  {
   "cell_type": "markdown",
   "id": "f0a0be46",
   "metadata": {},
   "source": [
    "# Tupla"
   ]
  },
  {
   "cell_type": "code",
   "execution_count": 347,
   "id": "1b321805",
   "metadata": {},
   "outputs": [
    {
     "data": {
      "text/plain": [
       "('um', 1, 'rhuan')"
      ]
     },
     "execution_count": 347,
     "metadata": {},
     "output_type": "execute_result"
    }
   ],
   "source": [
    "tupla = tuple()\n",
    "tupla = ()\n",
    "type(tupla)\n",
    "dir(tupla)\n",
    "# help(tuple)\n",
    "tupla = ('um',1,'rhuan')\n",
    "type(tupla)\n",
    "tupla[::]"
   ]
  },
  {
   "cell_type": "markdown",
   "id": "4b4d2415",
   "metadata": {},
   "source": [
    "# Dicionário"
   ]
  },
  {
   "cell_type": "code",
   "execution_count": 383,
   "id": "b3681ea7",
   "metadata": {},
   "outputs": [
    {
     "name": "stdout",
     "output_type": "stream",
     "text": [
      "dict_keys(['nome', 'idade', 'cursos'])\n",
      "dict_values(['Rhuan', 31, ['Inglês', 'Francês']])\n",
      "{'nome': 'Rhuan', 'idade': 32, 'cursos': ['Inglês', 'Francês', 'Espanhol']}\n",
      "{'nome': 'Rhuan', 'cursos': ['Inglês', 'Francês', 'Espanhol']}\n",
      "{'nome': 'Rhuan', 'cursos': ['Inglês', 'Francês', 'Espanhol'], 'idade': 20, 'Sexo': 'M'}\n",
      "{'nome': 'Rhuan', 'cursos': ['Inglês', 'Francês', 'Espanhol'], 'Sexo': 'M'}\n"
     ]
    },
    {
     "data": {
      "text/plain": [
       "dict"
      ]
     },
     "execution_count": 383,
     "metadata": {},
     "output_type": "execute_result"
    }
   ],
   "source": [
    "pessoa = { 'nome': 'Rhuan', 'idade': 31, 'cursos': ['Inglês','Francês']}\n",
    "type(pessoa)\n",
    "len(pessoa)\n",
    "pessoa\n",
    "pessoa['nome']\n",
    "pessoa['cursos']\n",
    "pessoa['cursos'][0]\n",
    "print(pessoa.keys())\n",
    "print(pessoa.values())\n",
    "pessoa.items()\n",
    "pessoa.get('nome')\n",
    "pessoa.get('teste',[])\n",
    "pessoa.get('cursos')[0]\n",
    "\n",
    "\n",
    "pessoa['idade'] = 32\n",
    "pessoa['cursos'].append('Espanhol')\n",
    "print(pessoa)\n",
    "\n",
    "pessoa.pop('idade')\n",
    "print(pessoa)\n",
    "\n",
    "pessoa.update({'idade': 20, 'Sexo': 'M'})\n",
    "print(pessoa)\n",
    "\n",
    "del pessoa['idade']\n",
    "print(pessoa)\n",
    "pessoa.clear()\n",
    "pessoa\n",
    "type(pessoa)"
   ]
  },
  {
   "cell_type": "markdown",
   "id": "2e7cb102",
   "metadata": {},
   "source": [
    "# Conjunto"
   ]
  },
  {
   "cell_type": "code",
   "execution_count": 406,
   "id": "2bbbcdf3",
   "metadata": {},
   "outputs": [
    {
     "name": "stdout",
     "output_type": "stream",
     "text": [
      "{'c', 'd', 'r', 'o', 'e'}\n",
      "False True\n",
      "{1, 2, 3}\n",
      "{2, 3}\n"
     ]
    },
    {
     "data": {
      "text/plain": [
       "{1, 3}"
      ]
     },
     "execution_count": 406,
     "metadata": {},
     "output_type": "execute_result"
    }
   ],
   "source": [
    "a = {1, 2, 3}\n",
    "type(a)\n",
    "a = set('codder')\n",
    "print(a)\n",
    "print(3 in a, 'd' in a )\n",
    "{1, 2, 3} == {3, 2, 1, 1}\n",
    "\n",
    "# operações\n",
    "c1 = {1,2}\n",
    "c2 = {2,3}\n",
    "c1.union(c2)\n",
    "c1. intersection(c2)\n",
    "c1.update(c2)\n",
    "print(c1)\n",
    "print(c2)\n",
    "c2 <= c1\n",
    "c1 >= c2\n",
    "{1, 2, 3} - {2}\n",
    "c1 - c2\n",
    "c1 -= {2}\n",
    "c1"
   ]
  },
  {
   "cell_type": "markdown",
   "id": "3e7cfc3a",
   "metadata": {},
   "source": [
    "# Interpolação"
   ]
  },
  {
   "cell_type": "code",
   "execution_count": 429,
   "id": "6efd8869",
   "metadata": {},
   "outputs": [
    {
     "name": "stdout",
     "output_type": "stream",
     "text": [
      "Nome: Ana Idade: 31.48 True False\n",
      "Nome: Ana Idade: 31.47535\n",
      "Nome: Ana Idade: 31.47535\n",
      "Nome: Ana Idade> 31.47535\n"
     ]
    }
   ],
   "source": [
    "from string import Template\n",
    "\n",
    "nome , idade =  'Ana', 31.47535\n",
    "print('Nome: %s Idade: %.2f %r %r'% (nome, idade, True, False)) # mais antiga\n",
    "print('Nome: {0} Idade: {1}'.format(nome, idade)) # python < 3.6\n",
    "print(f'Nome: {nome} Idade: {idade}') # python > 3.6\n",
    "\n",
    "s = Template('Nome: $n Idade> $i')\n",
    "print(s.substitute(n = nome, i = idade))"
   ]
  }
 ],
 "metadata": {
  "kernelspec": {
   "display_name": "Python 3 (ipykernel)",
   "language": "python",
   "name": "python3"
  },
  "language_info": {
   "codemirror_mode": {
    "name": "ipython",
    "version": 3
   },
   "file_extension": ".py",
   "mimetype": "text/x-python",
   "name": "python",
   "nbconvert_exporter": "python",
   "pygments_lexer": "ipython3",
   "version": "3.9.12"
  }
 },
 "nbformat": 4,
 "nbformat_minor": 5
}
